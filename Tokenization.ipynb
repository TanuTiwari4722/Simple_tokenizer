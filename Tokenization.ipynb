{
 "cells": [
  {
   "cell_type": "markdown",
   "id": "b3e0cea4",
   "metadata": {},
   "source": [
    "Reading the file"
   ]
  },
  {
   "cell_type": "code",
   "execution_count": 1,
   "id": "a2c19626",
   "metadata": {},
   "outputs": [
    {
     "name": "stdout",
     "output_type": "stream",
     "text": [
      "Total number of character: 10972\n"
     ]
    }
   ],
   "source": [
    "with open('Token.txt', \"r\", encoding = \"utf-8\" ) as f:\n",
    "    raw_text = f.read()\n",
    "\n",
    "print(\"Total number of character:\", len(raw_text))"
   ]
  },
  {
   "cell_type": "code",
   "execution_count": 2,
   "id": "f6c2b0df",
   "metadata": {},
   "outputs": [
    {
     "name": "stdout",
     "output_type": "stream",
     "text": [
      "The morning—if it could even be called that, given the barely-there light and oppressive silence—cr\n"
     ]
    }
   ],
   "source": [
    "print(raw_text[:99])"
   ]
  },
  {
   "cell_type": "markdown",
   "id": "93450dab",
   "metadata": {},
   "source": [
    "Splitting the text on spaces"
   ]
  },
  {
   "cell_type": "code",
   "execution_count": 3,
   "id": "d1b40253",
   "metadata": {},
   "outputs": [],
   "source": [
    "import re\n",
    "\n",
    "retext = \"Hello, world. This is test\""
   ]
  },
  {
   "cell_type": "code",
   "execution_count": 4,
   "id": "834493f4",
   "metadata": {},
   "outputs": [
    {
     "name": "stdout",
     "output_type": "stream",
     "text": [
      "['Hello,', ' ', 'world.', ' ', 'This', ' ', 'is', ' ', 'test']\n"
     ]
    }
   ],
   "source": [
    "result = re.split(r'(\\s)', retext)\n",
    "print(result)"
   ]
  },
  {
   "cell_type": "markdown",
   "id": "dfaf8c13",
   "metadata": {},
   "source": [
    "Splitting on special characters"
   ]
  },
  {
   "cell_type": "code",
   "execution_count": 5,
   "id": "7f1100eb",
   "metadata": {},
   "outputs": [
    {
     "name": "stdout",
     "output_type": "stream",
     "text": [
      "['Hello', ',', '', ' ', 'world', '.', '', ' ', 'This', ' ', 'is', ' ', 'test']\n"
     ]
    }
   ],
   "source": [
    "result = re.split(r'([,.]|\\s)', retext)\n",
    "print(result)\n"
   ]
  },
  {
   "cell_type": "markdown",
   "id": "9a09852b",
   "metadata": {},
   "source": [
    "Removing whitespaces"
   ]
  },
  {
   "cell_type": "code",
   "execution_count": 6,
   "id": "22ee862e",
   "metadata": {},
   "outputs": [
    {
     "name": "stdout",
     "output_type": "stream",
     "text": [
      "['Hello', ',', 'world', '.', 'This', 'is', 'test']\n"
     ]
    }
   ],
   "source": [
    "result = [item for item in result if item.strip()]\n",
    "print(result)"
   ]
  },
  {
   "cell_type": "markdown",
   "id": "737cf943",
   "metadata": {},
   "source": [
    "Handling other punctuations"
   ]
  },
  {
   "cell_type": "code",
   "execution_count": 7,
   "id": "50d32c95",
   "metadata": {},
   "outputs": [
    {
     "name": "stdout",
     "output_type": "stream",
     "text": [
      "['Hello', ',', '', ' ', 'world', '.', '', ' ', 'Is', ' ', 'this', ' ', '', '--', '', ' ', 'a', ' ', 'test', '?', '']\n"
     ]
    }
   ],
   "source": [
    "text = \"Hello, world. Is this -- a test?\"\n",
    "result = re.split(r'([,.:;?_!\"()\\']|--|\\s)', text)\n",
    "print(result)"
   ]
  },
  {
   "cell_type": "markdown",
   "id": "02c400a0",
   "metadata": {},
   "source": [
    "Applying on the main text"
   ]
  },
  {
   "cell_type": "code",
   "execution_count": 8,
   "id": "3b8c91ad",
   "metadata": {},
   "outputs": [
    {
     "name": "stdout",
     "output_type": "stream",
     "text": [
      "['The', 'morning—if', 'it', 'could', 'even', 'be', 'called', 'that', ',', 'given', 'the', 'barely-there', 'light', 'and', 'oppressive', 'silence—crept', 'in', 'slowly', ',', 'lazily', ',', 'as', 'if', 'unsure', 'whether', 'to', 'arrive', 'at', 'all', ';', 'the', 'sky', ',', 'still', 'painted', 'in', 'shades', 'of', 'gunmetal', 'gray', ',', 'threatened', 'rain', '(', 'again', '!', ')', ',', 'and', 'Eleanor', ',', 'bleary-eyed', 'and', 'disheveled', ',', 'groaned', 'beneath', 'her', 'patchwork', 'blanket', '.', '“Another', 'day', ',', '”', 'she', 'murmured', ',', 'her', 'voice', 'rough', 'like', 'gravel—unenthusiastic', ',', 'indifferent', ',', 'exhausted', '.', 'The', 'clock', '(', 'that', 'accursed', 'thing', '!', ')', 'blinked', '6', ':', '37', 'AM', 'in', 'glaring', 'red', 'digits', ';', 'too', 'early', 'to', 'function', ',', 'too', 'late', 'to', 'go', 'back', 'to', 'sleep', '.', 'With', 'a', 'sigh', ',', 'she', 'swung', 'her', 'legs', 'over', 'the', 'bed’s', 'edge', ',', 'her', 'toes', 'finding', 'the', 'cold', 'floor—so', 'cold', ',', 'in', 'fact', ',', 'that', 'she', 'flinched', '.', 'Outside', ',', 'the', 'world', 'stirred', ':', 'birds', '(', 'mocking', ',', 'loud', ',', 'incessant', ')', ',', 'dogs', 'barking', 'in', 'the', 'distance', ',', 'car', 'engines', 'coughing', 'to', 'life', ',', 'and', 'wind—sharp', 'and', 'slicing—rattling', 'the', 'old', 'windowpane', 'like', 'a', 'warning', ':', '*brace', 'yourself*', '.', 'Somewhere', 'below', ',', 'Mr', '.', 'Reynolds—the', 'man', 'with', 'the', 'loud', 'voice', ',', 'mismatched', 'socks', ',', 'and', 'his', 'three', 'infamous', 'dogs', '(', 'Brutus', ',', 'Lady', ',', 'and', 'the', 'perpetually', 'anxious', 'fluffball', 'named', 'Mr', '.', 'Snuffles', ')', '—was', 'already', 'out', 'and', 'about', ',', 'shouting', '“Top', 'of', 'the', 'morning', '!', '”', 'to', 'absolutely', 'no', 'one', ',', 'or', 'perhaps', 'everyone', ',', 'depending', 'on', 'how', 'you', 'saw', 'it', '.', 'No', 'reply', 'came', ',', 'naturally', ',', 'yet', 'his', 'optimism—though', 'irritating—persisted', ',', 'bounced', 'off', 'brick', 'walls', ',', 'lingered', 'like', 'fog', '.', 'Eleanor', ',', 'meanwhile', ',', 'shuffled', 'to', 'the', 'kitchen', '.', 'The', 'coffee', 'machine—her', 'lifeline—sat', 'like', 'a', 'shrine', ',', 'surrounded', 'by', 'yesterday’s', 'dirty', 'mugs', ',', 'unpaid', 'bills', '(', 'one', 'marked', '**URGENT**', 'in', 'big', ',', 'bold', ',', 'red', 'letters', ')', ',', 'and', 'a', 'dried-out', 'banana', '.', 'As', 'the', 'machine', 'gurgled', 'and', 'wheezed—sputtering', 'to', 'life', 'like', 'a', 'reluctant', 'dragon—she', 'stared', 'blankly', 'at', 'the', 'calendar', '.', 'Tuesday', '.', 'Or', 'was', 'it', 'Wednesday', '?', 'The', 'days', 'blended', 'now', ':', 'time', 'was', 'soup', '.', 'Thick', ',', 'unseasoned', ',', 'repetitive', 'soup', '.', 'Her', 'planner', ',', 'a', 'beautiful', 'leather-bound', 'gift', 'from', 'someone', 'she', 'no', 'longer', 'spoke', 'to', ',', 'lay', 'open', 'on', 'the', 'counter', ':', '“Call', 'Mom', '.', 'Finish', 'proposal', '.', 'Water', 'the', 'plant', '.', '(', 'Check', 'if', 'it’s', 'still', 'alive', '?', ')', '.', '”', 'How', ',', 'she', 'wondered', ',', 'did', 'people', 'juggle', 'jobs', ',', 'friendships', ',', 'exercise', 'routines', ',', 'meal', 'prepping', ',', 'and', 'hobbies', '(', 'knitting', '?', 'gardening', '?', 'journaling', '?', ')', 'all', 'at', 'once—and', 'still', 'remember', 'to', 'floss', '?', 'She', 'took', 'a', 'sip', 'of', 'coffee—too', 'hot', '!', '—and', 'winced', '.', 'Then', 'another—less', 'painful', 'this', 'time', '.', 'Better', '.', 'The', 'radio', 'clicked', 'on', '(', 'automatically', ',', 'as', 'programmed', ')', ',', 'but', 'she', 'barely', 'noticed', 'until', 'the', 'static', 'cleared', 'and', 'a', 'cheery', 'voice', 'announced', ',', '“It’s', 'going', 'to', 'be', 'a', 'chilly', 'one', ',', 'folks—don’t', 'forget', 'your', 'umbrellas', '!', '”', 'Eleanor', 'scoffed', '.', 'Umbrellas', ',', 'coats', ',', 'layers—it', 'was', 'June', '!', 'Was', 'it', 'not', 'supposed', 'to', 'be', 'summer', '?', 'Global', 'warming', ',', 'she', 'supposed', '(', 'ironically', ',', 'bitterly', ')', ',', 'had', 'other', 'plans', '.', 'The', 'voice', 'continued—traffic', ',', 'stocks', ',', 'local', 'obituaries—while', 'she', 'tuned', 'out', ',', 'staring', 'instead', 'at', 'the', 'condensation', 'on', 'the', 'window', 'and', 'wondering', '(', 'not', 'for', 'the', 'first', 'time', ')', ':', '*Is', 'this', 'it', '?', '*', 'The', 'adult', 'life', 'she', 'had', 'prepared', 'for', ',', 'dreamed', 'about', ',', 'anxiously', 'awaited', 'for', 'decades', ':', 'deadlines', ',', 'dry', 'toast', ',', 'cold', 'feet', ',', 'lukewarm', 'ambitions', '?', 'Where', 'were', 'the', 'grand', 'adventures', '?', 'The', 'spontaneous', 'road', 'trips', '?', 'The', 'candle-lit', 'poetry', 'readings', '?', 'Instead', ',', 'she', 'had', 'cracked', 'heels', ',', 'emails', 'marked', '“follow-up', 'please', ',', '”', 'and', 'a', 'downstairs', 'neighbor', 'who', 'played', 'the', 'violin', 'poorly', 'at', '2', 'AM', 'every', 'Thursday', '(', 'always', 'Thursday', ',', 'never', 'Friday', '!', ')', '.', 'She', 'glanced', 'at', 'her', 'phone', ':', 'four', 'unread', 'texts', '(', 'ignored', ')', ',', 'two', 'missed', 'calls', '(', 'one', 'from', 'an', 'unknown', 'number', ',', 'one', 'from', 'her', 'aunt', ')', ',', 'and', 'countless', 'notifications', '(', 'deals', ',', 'updates', ',', 'alerts', ',', 'useless', 'things', ')', '.', '“I', \"'\", 'll', 'deal', 'with', 'it', 'later', ',', '”', 'she', 'mumbled—knowing', 'full', 'well', 'she', 'wouldn', \"'\", 't', '.', 'It', 'was', 'easier', ',', 'after', 'all', ',', 'to', 'delay', '.', 'Delay', 'responses', '.', 'Delay', 'responsibilities', '.', 'Delay', 'life', '.', 'Outside', ',', 'the', 'rain', 'had', 'finally', 'started—soft', ',', 'rhythmic', ',', 'cleansing', '.', 'For', 'a', 'moment', ',', 'Eleanor', 'just', 'stood', 'there', ',', 'absorbing', 'the', 'sound', '.', 'There', 'was', 'something', 'nostalgic', 'about', 'it', ':', 'as', 'if', 'the', 'rain', 'remembered', 'something', 'she', 'had', 'forgotten', '.', 'Suddenly', ',', 'the', 'power', 'flickered', '.', 'Just', 'once—but', 'enough', 'to', 'make', 'her', 'jump', '.', 'The', 'lights', 'dimmed', ',', 'blinked', ',', 'held', 'their', 'breath', '.', '.', '.', 'then', 'exhaled', '.', '“Great', ',', '”', 'she', 'muttered', ',', '“just', 'great', '.', '”', 'As', 'if', 'the', 'universe', 'had', 'decided', 'to', 'punctuate', 'her', 'already', 'miserable', 'morning', 'with', 'a', 'dash', 'of', 'chaos', '.', 'The', 'microwave', 'reset', '.', 'The', 'Wi-Fi', 'blinked', '.', 'The', 'refrigerator', 'groaned', '(', 'was', 'that', 'normal', '?', ')', '.', 'Somewhere', 'in', 'the', 'living', 'room', ',', 'a', 'book', 'slid', 'off', 'a', 'shelf', '(', 'ghost', '?', 'gravity', '?', 'gust', 'of', 'air', '?', ')', ',', 'hit', 'the', 'floor', 'with', 'a', 'dull', '*thud*', ',', 'and', 'stayed', 'there', ',', 'accusingly', '.', 'She', 'didn’t', 'pick', 'it', 'up', '.', 'She', 'didn’t', 'even', 'look', 'to', 'see', 'which', 'book', 'it', 'was', '.', 'What', 'did', 'it', 'matter', '?', 'The', 'kettle', 'whistled—loud', ',', 'piercing', ',', 'persistent—snapping', 'her', 'out', 'of', 'her', 'spiraling', 'thoughts', '.', '“Focus', ',', '”', 'she', 'told', 'herself', '.', '“Just', 'get', 'through', 'the', 'morning', '.', '”', 'But', 'even', 'that', 'felt', 'monumental', '.', 'Her', 'hands', 'trembled', 'slightly', 'as', 'she', 'poured', 'water', 'into', 'her', 'favorite', 'chipped', 'mug', '(', 'the', 'one', 'that', 'read', '“Introverts', 'Unite', '.', '.', '.', 'Separately”', ')', ',', 'steam', 'rising', 'like', 'a', 'gentle', 'ghost', '.', 'She', 'stirred', 'in', 'honey', '(', 'no', 'milk', ')', ',', 'added', 'a', 'splash', 'of', 'cinnamon', '(', 'for', 'hope', '?', ')', ',', 'and', 'sat', '.', 'Finally', 'sat', '.', 'At', 'the', 'tiny', 'kitchen', 'table', 'with', 'its', 'one', 'wobbly', 'leg', 'and', 'several', 'coffee', 'rings', '.', 'She', 'stared', 'at', 'the', 'tea', '.', 'It', 'stared', 'back', '.', 'It', 'was', 'in', 'this', 'silence—this', 'brief', ',', 'delicate', ',', 'deceptively', 'peaceful', 'silence—that', 'her', 'mind', 'wandered', ':', 'to', 'the', 'job', 'she', 'no', 'longer', 'liked', '(', 'had', 'she', 'ever', 'liked', 'it', '?', ')', ';', 'to', 'the', 'friends', 'she', 'rarely', 'saw', '(', 'texting', 'wasn’t', 'the', 'same', ')', ';', 'to', 'the', 'city', 'she', 'once', 'moved', 'to', 'with', 'excitement', '(', 'now', 'gray', ',', 'noisy', ',', 'expensive', ')', ';', 'to', 'the', 'person', 'she', 'used', 'to', 'be', '(', 'before', 'burnout', ',', 'before', 'routine', ',', 'before', 'the', 'endless', 'scroll', 'of', 'apps', 'and', 'updates', 'and', 'feeds', ')', '.', 'Was', 'she', 'still', 'that', 'person—creative', ',', 'bold', ',', 'bright-eyed', '?', 'Or', 'had', 'she', ',', 'without', 'noticing', ',', 'become', 'a', 'footnote', 'in', 'her', 'own', 'story', '?', 'Her', 'cat', '(', 'a', 'stray', 'who', 'had', 'adopted', 'her', 'during', 'lockdown', ')', 'jumped', 'onto', 'the', 'table', 'uninvited', ',', 'knocking', 'over', 'a', 'spoon', ',', 'then', 'unapologetically', 'sitting', 'directly', 'on', 'her', 'notes', '.', 'Eleanor', 'didn’t', 'move', 'him', '.', 'He', 'was', 'warm', '.', 'Soft', '.', 'Purring', '.', 'A', 'small', 'kindness', 'in', 'a', 'world', 'that', 'often', 'forgot', 'to', 'be', 'kind', '.', 'She', 'exhaled', '.', 'Took', 'a', 'long', 'sip', '.', 'Let', 'the', 'warmth', 'linger', '.', 'Then', ',', 'without', 'warning', ',', 'the', 'phone', 'rang—shrilly', ',', 'urgently', ',', 'like', 'a', 'digital', 'scream—and', 'shattered', 'the', 'moment', '.', 'She', 'stared', 'at', 'it', '.', 'Ringing', '.', 'Flashing', '.', 'Demanding', '.', 'Her', 'finger', 'hovered', '.', 'She', 'didn’t', 'want', 'to', 'answer', '.', 'She', 'wanted', 'silence', '.', 'She', 'wanted', 'pause', '.', 'But', 'instead—slowly', ',', 'deliberately—she', 'picked', 'it', 'up', ',', 'cleared', 'her', 'throat', ',', 'and', 'said', ':', '“Hello', '?', '”', '**The', 'Clockmaker’s', 'Secret**', 'In', 'a', 'quiet', 'town', 'nestled', 'between', 'mist-covered', 'hills', 'and', 'ancient', 'pine', 'trees', ',', 'there', 'lived', 'an', 'old', 'clockmaker', 'named', 'Elias', 'Thorne', '.', 'His', 'shop', '—', '*“Thorne', '&', 'Time”*', '—', 'sat', 'at', 'the', 'corner', 'of', 'the', 'cobbled', 'main', 'street', ',', 'its', 'windows', 'always', 'slightly', 'fogged', ',', 'its', 'door', 'always', 'creaking', '.', 'Time', ',', 'in', 'this', 'little', 'shop', ',', 'was', 'not', 'just', 'measured', '—', 'it', 'was', '*kept*', ',', '*cared', 'for*', ',', 'and', 'in', 'some', 'peculiar', 'way', ',', '*remembered*', '.', 'Elias', 'was', 'a', 'quiet', 'man', 'with', 'a', 'back', 'slightly', 'bent', 'from', 'years', 'of', 'leaning', 'over', 'gears', 'and', 'pendulums', ',', 'a', 'beard', 'as', 'white', 'as', 'fresh', 'snow', ',', 'and', 'eyes', 'that', 'glimmered', 'like', 'starlight', '.', 'He', 'spoke', 'little', ',', 'smiled', 'rarely', ',', 'and', 'yet', '—', 'everyone', 'trusted', 'him', '.', 'They', 'brought', 'their', 'broken', 'wristwatches', ',', 'their', 'forgotten', 'cuckoos', ',', 'their', 'heirloom', 'grandfather', 'clocks', 'that', 'hadn', \"'\", 't', 'ticked', 'in', 'decades', '.', 'And', 'Elias', ',', 'with', 'hands', 'that', 'never', 'trembled', ',', 'always', 'fixed', 'them', '.', 'But', 'Elias', 'held', 'a', 'secret', '.', 'Behind', 'the', 'velvet', 'curtain', 'in', 'the', 'back', 'of', 'his', 'shop', ',', 'past', 'shelves', 'of', 'springs', 'and', 'minute', 'hands', ',', 'sat', 'a', 'tall', ',', 'unassuming', 'cabinet', '.', 'It', 'was', 'dusty', ',', 'locked', ',', 'and', 'entirely', 'ignored', 'by', 'visitors', '.', 'What', 'no', 'one', 'knew', 'was', 'that', 'inside', 'this', 'cabinet', 'ticked', 'a', 'clock', 'Elias', 'hadn’t', 'built', '—', 'a', 'clock', 'that', 'had', '*built', 'him*', '.', '--', '-', 'It', 'was', 'sixty-seven', 'years', 'ago', 'when', 'Elias', ',', 'just', 'seventeen', ',', 'stumbled', 'upon', 'the', 'broken', 'ruins', 'of', 'a', 'mansion', 'deep', 'in', 'the', 'forest', '—', 'a', 'place', 'long', 'abandoned', ',', 'covered', 'in', 'ivy', 'and', 'time', '.', 'Drawn', 'by', 'the', 'sound', 'of', 'a', 'faint', 'ticking', '—', 'impossibly', 'steady', '—', 'he', 'ventured', 'inside', '.', 'There', ',', 'surrounded', 'by', 'dust', 'and', 'moonlight', ',', 'he', 'found', 'it', ':', 'a', 'clock', 'unlike', 'any', 'he', 'had', 'ever', 'seen', '.', 'It', 'stood', 'nine', 'feet', 'tall', ',', 'encased', 'in', 'black', 'walnut', 'and', 'gold', 'filigree', ',', 'with', 'no', 'visible', 'winding', 'mechanism', 'and', 'no', 'hands', 'on', 'its', 'face', '.', 'It', 'didn’t', 'tell', 'time', '—', 'it', '*held', 'it*', '.', 'Curious', 'and', 'unable', 'to', 'resist', ',', 'Elias', 'touched', 'it', '.', 'In', 'that', 'moment', ',', 'a', 'shock', 'ran', 'through', 'his', 'fingers', ',', 'and', 'the', 'ticking', 'stopped', '.', 'The', 'world', 'around', 'him', 'froze', '—', 'birds', 'mid-flight', ',', 'leaves', 'mid-fall', ',', 'the', 'wind', 'caught', 'like', 'breath', 'in', 'the', 'throat', 'of', 'the', 'world', '.', 'And', 'then', ',', 'just', 'as', 'suddenly', ',', 'the', 'ticking', 'resumed', '—', 'faster', ',', 'louder', ',', 'deeper', '.', 'That', 'night', ',', 'Elias', 'dreamt', 'of', 'things', 'he', 'could', 'not', 'explain', '—', 'lifetimes', 'he', 'hadn', \"'\", 't', 'lived', ',', 'memories', 'that', 'weren', \"'\", 't', 'his', ',', 'and', 'a', 'voice', ',', 'gentle', 'and', 'patient', ',', 'saying', 'only', ':', '*', '\"', 'You', 'are', 'chosen', 'to', 'keep', 'the', 'memory', 'of', 'Time', '.', '\"', '*', '--', '-', 'From', 'that', 'moment', 'on', ',', 'Elias', 'could', 'feel', 'time', '—', 'not', 'just', 'measure', 'it', '.', 'He', 'could', 'tell', 'when', 'someone', 'was', 'near', 'the', 'end', 'of', 'their', 'journey', ',', 'sense', 'when', 'a', 'day', 'held', 'more', 'weight', 'than', 'others', ',', 'and', 'occasionally', '—', 'just', 'occasionally', '—', 'he', 'could', 'slow', 'time', 'down', ',', 'breathe', 'in', 'a', 'moment', ',', 'stretch', 'it', '.', 'But', 'he', 'never', 'used', 'it', 'selfishly', '.', 'In', 'fact', ',', 'he', 'barely', 'used', 'it', 'at', 'all', '.', 'He', 'feared', 'the', 'cost', '.', 'Because', 'there', 'was', 'always', 'a', 'cost', '.', '--', '-', 'Years', 'passed', '.', 'Elias', 'never', 'married', ',', 'never', 'left', 'the', 'town', ',', 'never', 'grew', 'truly', 'old', '.', 'While', 'his', 'beard', 'whitened', 'and', 'his', 'spine', 'curved', ',', 'his', 'hands', 'remained', 'young', ',', 'steady', ',', 'perfect', '—', 'too', 'perfect', '.', 'He', 'watched', 'people', 'age', ',', 'watched', 'children', 'grow', 'and', 'move', 'away', ',', 'watched', 'friends', 'forget', 'him', 'or', 'pass', 'on', '.', 'And', 'all', 'the', 'while', ',', 'the', 'cabinet', 'in', 'the', 'back', 'room', 'ticked', '—', 'once', 'every', 'second', ',', 'every', 'minute', ',', 'every', 'year', '—', 'always', 'in', 'perfect', 'rhythm', '.', 'One', 'autumn', 'morning', ',', 'a', 'girl', 'named', 'Lila', 'stumbled', 'into', 'the', 'shop', '.', 'She', 'was', 'twelve', ',', 'muddy', 'from', 'the', 'rain', ',', 'and', 'holding', 'a', 'broken', 'watch', 'she', 'claimed', 'had', 'belonged', 'to', 'her', 'mother', '—', 'who', 'had', 'passed', 'away', 'the', 'year', 'before', '.', '“It', 'doesn’t', 'tick', 'anymore', ',', '”', 'she', 'said', ',', 'placing', 'it', 'on', 'the', 'counter', '.', '“I', 'think', 'it’s', 'sad', '.', '”', 'Elias', ',', 'touched', 'by', 'her', 'innocence', ',', 'examined', 'the', 'watch', '.', 'The', 'spring', 'was', 'shattered', '—', 'a', 'clean', 'break', '.', 'A', 'lesser', 'clockmaker', 'would’ve', 'said', 'it', 'was', 'unfixable', '.', 'But', 'Elias', 'took', 'it', 'without', 'a', 'word', ',', 'nodded', ',', 'and', 'told', 'her', 'to', 'return', 'in', 'a', 'week', '.', 'What', 'he', 'didn’t', 'tell', 'her', 'was', 'that', 'he', 'had', 'seen', 'the', 'watch', 'before', '.', 'Not', 'this', 'one', '—', 'but', 'one', 'like', 'it', ',', 'in', 'a', 'vision', ',', 'long', 'ago', '.', 'A', 'vision', 'where', 'the', 'girl', 'grew', 'up', 'to', 'become', 'a', 'scientist', ',', 'a', 'poet', ',', 'a', 'mother', ',', 'and', 'one', 'day', '—', 'the', 'new', 'Keeper', 'of', 'Time', '.', '--', '-', 'That', 'night', ',', 'Elias', 'walked', 'to', 'the', 'back', 'room', '.', 'He', 'opened', 'the', 'forbidden', 'cabinet', '.', 'The', 'clock', 'inside', 'was', 'changing', '.', 'Its', 'wood', 'had', 'darkened', '.', 'Its', 'tick', 'had', 'slowed', '.', 'He', 'placed', 'the', 'little', 'broken', 'watch', 'at', 'its', 'base', ',', 'closed', 'his', 'eyes', ',', 'and', 'whispered', ':', '*', '\"', 'It’s', 'almost', 'time', ',', 'isn’t', 'it', '?', '\"', '*', 'And', 'the', 'ticking', 'stopped', '—', 'completely', ',', 'for', 'the', 'first', 'time', 'in', 'sixty-seven', 'years', '.', '--', '-', 'The', 'next', 'morning', ',', 'the', 'townspeople', 'found', 'the', 'shop', 'door', 'wide', 'open', '.', 'Elias', 'was', 'gone', '.', 'No', 'note', '.', 'No', 'goodbye', '.', 'Only', 'the', 'smell', 'of', 'cedar', ',', 'oil', ',', 'and', 'warm', 'metal', 'lingered', '.', 'On', 'the', 'counter', 'sat', 'the', 'little', 'girl', \"'\", 's', 'watch', '—', 'whole', 'again', ',', 'ticking', 'steadily', ',', 'and', 'beside', 'it', ',', 'a', 'brass', 'key', 'with', 'a', 'tag', ':', '**“For', 'Lila', '—', 'when', 'she’s', 'ready', '.', '”**', 'Years', 'passed', '.', 'Lila', 'returned', 'to', 'the', 'shop', 'when', 'she', 'turned', 'eighteen', '.', 'She', 'found', 'it', 'unchanged', ',', 'dust-free', ',', 'clean', '—', 'as', 'if', 'someone', 'had', 'kept', 'it', 'alive', '.', 'She', 'took', 'over', 'slowly', ',', 'hesitantly', ',', 'learning', 'gears', ',', 'springs', ',', 'and', 'patience', '.', 'The', 'cabinet', 'remained', 'unopened', '—', 'until', 'one', 'day', ',', 'she', 'touched', 'it', ',', 'and', 'it', 'opened', 'by', 'itself', '.', 'Inside', ',', 'the', 'clock', 'had', 'changed', '.', 'It', 'now', 'had', 'a', 'single', 'hand', '—', 'pointing', 'to', 'the', 'future', '.', 'And', 'when', 'it', 'ticked', 'again', ',', 'Lila', 'heard', 'a', 'voice', '—', 'gentle', 'and', 'patient', '—', 'whisper', ':', '*', '\"', 'You', 'are', 'chosen', 'to', 'keep', 'the', 'memory', 'of', 'Time', '.', '\"', '*']\n"
     ]
    }
   ],
   "source": [
    "preprocessed = re.split(r'([,.:;?_!\"()\\']|--|\\s)', raw_text)\n",
    "preprocessed = [item.strip() for item in preprocessed if item.strip()]\n",
    "print(preprocessed)"
   ]
  },
  {
   "cell_type": "markdown",
   "id": "4e3bb912",
   "metadata": {},
   "source": [
    "Taking first thirty words"
   ]
  },
  {
   "cell_type": "code",
   "execution_count": 9,
   "id": "c01e6f09",
   "metadata": {},
   "outputs": [
    {
     "name": "stdout",
     "output_type": "stream",
     "text": [
      "['The', 'morning—if', 'it', 'could', 'even', 'be', 'called', 'that', ',', 'given', 'the', 'barely-there', 'light', 'and', 'oppressive', 'silence—crept', 'in', 'slowly', ',', 'lazily', ',', 'as', 'if', 'unsure', 'whether', 'to', 'arrive', 'at', 'all', ';']\n"
     ]
    }
   ],
   "source": [
    "print(preprocessed[:30])"
   ]
  },
  {
   "cell_type": "markdown",
   "id": "f652ff6c",
   "metadata": {},
   "source": [
    "Counting number of words"
   ]
  },
  {
   "cell_type": "code",
   "execution_count": 10,
   "id": "39335298",
   "metadata": {},
   "outputs": [
    {
     "name": "stdout",
     "output_type": "stream",
     "text": [
      "896\n"
     ]
    }
   ],
   "source": [
    "all_words = sorted(set(preprocessed))\n",
    "vocab_size = len(all_words)\n",
    "print(vocab_size)"
   ]
  },
  {
   "cell_type": "markdown",
   "id": "cdc33056",
   "metadata": {},
   "source": [
    "Creating a dictionary with the corresponding words and token ids"
   ]
  },
  {
   "cell_type": "code",
   "execution_count": null,
   "id": "62690110",
   "metadata": {},
   "outputs": [
    {
     "name": "stdout",
     "output_type": "stream",
     "text": [
      "('!', 0)\n",
      "('\"', 1)\n",
      "('&', 2)\n",
      "(\"'\", 3)\n",
      "('(', 4)\n",
      "(')', 5)\n",
      "('*', 6)\n",
      "('**The', 7)\n",
      "('**URGENT**', 8)\n",
      "('**“For', 9)\n",
      "('*Is', 10)\n",
      "('*brace', 11)\n",
      "('*built', 12)\n",
      "('*cared', 13)\n",
      "('*held', 14)\n",
      "('*kept*', 15)\n",
      "('*remembered*', 16)\n",
      "('*thud*', 17)\n",
      "('*“Thorne', 18)\n",
      "(',', 19)\n",
      "('-', 20)\n",
      "('--', 21)\n",
      "('.', 22)\n",
      "('2', 23)\n",
      "('37', 24)\n",
      "('6', 25)\n",
      "(':', 26)\n",
      "(';', 27)\n",
      "('?', 28)\n",
      "('A', 29)\n",
      "('AM', 30)\n",
      "('And', 31)\n",
      "('As', 32)\n",
      "('At', 33)\n",
      "('Because', 34)\n",
      "('Behind', 35)\n",
      "('Better', 36)\n",
      "('Brutus', 37)\n",
      "('But', 38)\n",
      "('Check', 39)\n",
      "('Clockmaker’s', 40)\n",
      "('Curious', 41)\n",
      "('Delay', 42)\n",
      "('Demanding', 43)\n",
      "('Drawn', 44)\n",
      "('Eleanor', 45)\n",
      "('Elias', 46)\n",
      "('Finally', 47)\n",
      "('Finish', 48)\n",
      "('Flashing', 49)\n",
      "('For', 50)\n"
     ]
    }
   ],
   "source": [
    "vocab = {token : integer for integer, token in enumerate(all_words)}\n",
    "for i, item in enumerate(vocab.items()):\n",
    "    print(item)\n",
    "    if i>=50:\n",
    "        break"
   ]
  },
  {
   "cell_type": "markdown",
   "id": "4c7c2e93",
   "metadata": {},
   "source": [
    "Creating a simple tokenizer"
   ]
  },
  {
   "cell_type": "code",
   "execution_count": 12,
   "id": "ae4834f2",
   "metadata": {},
   "outputs": [],
   "source": [
    "class simpletokenizer:\n",
    "    def __init__(self, vocab):\n",
    "        self.str_to_int = vocab\n",
    "        self.int_to_str = {i : s for s,i in vocab.items()}\n",
    "    \n",
    "    # def encode(self, text):\n",
    "    #     preprocessed = re.split(r'([,.?_!\"()\\']|--|\\s)', text)\n",
    "    #     preprocessed = [item.strip() for item in preprocessed if item.strip()]\n",
    "    #     ids = [self.str_to_int[s] for s in preprocessed] \n",
    "    #     return ids\n",
    "    \n",
    "    def encode(self, text):\n",
    "        preprocessed = re.split(r'([,.?_!\"()\\']|--|\\s)', text)\n",
    "        preprocessed = [item.strip() for item in preprocessed if item.strip()]\n",
    "        ids = [self.str_to_int[s] for s in preprocessed if s in self.str_to_int] \n",
    "        # skips unknown tokens here\n",
    "        return ids\n",
    "\n",
    "    def decode(self, ids):\n",
    "        text = \" \".join([self.int_to_str[i] for i in ids])\n",
    "        text = re.sub(r'\\s+([,.?!\"()\\'])', r'\\1', text) \n",
    "        return text     "
   ]
  },
  {
   "cell_type": "markdown",
   "id": "6d33222d",
   "metadata": {},
   "source": [
    "Testing the tokenizer on a random text"
   ]
  },
  {
   "cell_type": "code",
   "execution_count": 13,
   "id": "fd919f49",
   "metadata": {},
   "outputs": [
    {
     "name": "stdout",
     "output_type": "stream",
     "text": [
      "[41, 138, 789, 770, 636, 19, 46, 776, 425, 22]\n"
     ]
    }
   ],
   "source": [
    "tokenizer = simpletokenizer(vocab)\n",
    "text = \"Curious and unable to resist, Elias touched it.\"\n",
    "ids = tokenizer.encode(text)\n",
    "print(ids)"
   ]
  },
  {
   "cell_type": "markdown",
   "id": "b42ee20f",
   "metadata": {},
   "source": [
    "Decoding the values/words/tokens"
   ]
  },
  {
   "cell_type": "code",
   "execution_count": 14,
   "id": "758a1eed",
   "metadata": {},
   "outputs": [
    {
     "name": "stdout",
     "output_type": "stream",
     "text": [
      "Curious and unable to resist, Elias touched it.\n"
     ]
    }
   ],
   "source": [
    "print(tokenizer.decode(ids))"
   ]
  }
 ],
 "metadata": {
  "kernelspec": {
   "display_name": "Oasis",
   "language": "python",
   "name": "python3"
  },
  "language_info": {
   "codemirror_mode": {
    "name": "ipython",
    "version": 3
   },
   "file_extension": ".py",
   "mimetype": "text/x-python",
   "name": "python",
   "nbconvert_exporter": "python",
   "pygments_lexer": "ipython3",
   "version": "3.9.21"
  }
 },
 "nbformat": 4,
 "nbformat_minor": 5
}
